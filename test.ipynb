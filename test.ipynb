{
 "cells": [
  {
   "cell_type": "code",
   "execution_count": 28,
   "id": "7d6a3e4c",
   "metadata": {},
   "outputs": [
    {
     "data": {
      "text/plain": [
       "True"
      ]
     },
     "execution_count": 28,
     "metadata": {},
     "output_type": "execute_result"
    }
   ],
   "source": [
    "import os\n",
    "from dotenv import load_dotenv\n",
    "from pprint import pprint\n",
    "\n",
    "from stravalib import Client\n",
    "\n",
    "load_dotenv(override=True)"
   ]
  },
  {
   "cell_type": "code",
   "execution_count": null,
   "id": "17121b62",
   "metadata": {},
   "outputs": [
    {
     "name": "stdout",
     "output_type": "stream",
     "text": [
      "Fabien\n",
      "Allemand\n"
     ]
    }
   ],
   "source": [
    "client = Client(\n",
    "    access_token=os.getenv(\"STRAVA_ACCESS_TOKEN\"),\n",
    "    token_expires=int(os.getenv(\"STRAVA_EXPIRES_AT\")),\n",
    "    refresh_token=os.getenv(\"STRAVA_REFRESH_TOKEN\"),\n",
    ")\n",
    "athlete = client.get_athlete()\n",
    "print(athlete.firstname)\n",
    "print(athlete.lastname)"
   ]
  },
  {
   "cell_type": "code",
   "execution_count": null,
   "id": "4de2a339",
   "metadata": {},
   "outputs": [
    {
     "name": "stdout",
     "output_type": "stream",
     "text": [
      "M\n",
      "runner\n",
      "48\n",
      "all_ride_totals=ActivityTotals(achievement_count=None, count=71, distance=2645185.7, elapsed_time=729469, elevation_gain=27514.5, moving_time=636137) all_run_totals=ActivityTotals(achievement_count=None, count=464, distance=6999960.800000003, elapsed_time=2425126, elevation_gain=70720.80000000002, moving_time=2286340) all_swim_totals=ActivityTotals(achievement_count=None, count=25, distance=44050.0, elapsed_time=107700, elevation_gain=0.0, moving_time=107700) biggest_climb_elevation_gain=281.4 biggest_ride_distance=226167.0 recent_ride_totals=ActivityTotals(achievement_count=0, count=1, distance=181010.0, elapsed_time=37353, elevation_gain=1339.9, moving_time=33775) recent_run_totals=ActivityTotals(achievement_count=0, count=12, distance=176615.5, elapsed_time=75681, elevation_gain=2149.1, moving_time=57926) recent_swim_totals=ActivityTotals(achievement_count=0, count=0, distance=0.0, elapsed_time=0, elevation_gain=0.0, moving_time=0) ytd_ride_totals=ActivityTotals(achievement_count=None, count=22, distance=1181879.0, elapsed_time=281168, elevation_gain=12656.6, moving_time=245379) ytd_run_totals=ActivityTotals(achievement_count=None, count=148, distance=2230926.0, elapsed_time=818284, elevation_gain=26942.899999999998, moving_time=730978) ytd_swim_totals=ActivityTotals(achievement_count=None, count=2, distance=4650.0, elapsed_time=8700, elevation_gain=0.0, moving_time=8700)\n"
     ]
    }
   ],
   "source": [
    "print(athlete.sex)\n",
    "print(athlete.athlete_type)\n",
    "print(athlete.follower_count)"
   ]
  },
  {
   "cell_type": "code",
   "execution_count": 31,
   "id": "ad5da398",
   "metadata": {},
   "outputs": [
    {
     "name": "stdout",
     "output_type": "stream",
     "text": [
      "achievement_count=0 count=12 distance=176615.5 elapsed_time=75681 elevation_gain=2149.1 moving_time=57926\n"
     ]
    }
   ],
   "source": [
    "print(athlete.stats.recent_run_totals)"
   ]
  },
  {
   "cell_type": "code",
   "execution_count": 18,
   "id": "12f87f0d",
   "metadata": {},
   "outputs": [
    {
     "name": "stdout",
     "output_type": "stream",
     "text": [
      "[SummaryGear(distance=684811.0, id='b15029677', name='Decathlon 7.1', primary=False, resource_state=2), SummaryGear(distance=209469.0, id='b15796821', name='Specialized Rockhopper Elite 29', primary=False, resource_state=2)]\n",
      "[SummaryGear(distance=847445.0, id='g11206987', name='Salomon X ULTRA MID 3 GTX (2022)', primary=False, resource_state=2), SummaryGear(distance=2078542.0, id='g14697006', name='ASICS Gel-Trabuco 11 (2023)', primary=False, resource_state=2), SummaryGear(distance=1911087.0, id='g19347392', name='Brooks Cascadia 17 (2024)', primary=False, resource_state=2), SummaryGear(distance=550083.0, id='g19517047', name='ASICS Magic Speed 3 (2024)', primary=False, resource_state=2), SummaryGear(distance=387341.0, id='g8876328', name='Kalenji RUN ACTIVE (2019)', primary=False, resource_state=2), SummaryGear(distance=286340.0, id='g8889051', name='Quechua Chaussure randonnée homme (2018)', primary=False, resource_state=2), SummaryGear(distance=1806919.0, id='g9519193', name='Kalenji Kiprun XT7 (2021)', primary=False, resource_state=2), SummaryGear(distance=623033.0, id='g24116397', name='Salomon Genesis (2025)', primary=False, resource_state=2)]\n"
     ]
    }
   ],
   "source": [
    "print(athlete.bikes)\n",
    "print(athlete.shoes)"
   ]
  },
  {
   "cell_type": "code",
   "execution_count": 9,
   "id": "a68125b0",
   "metadata": {},
   "outputs": [],
   "source": [
    "activities = client.get_activities(after=\"2025-09-20\", limit=5)"
   ]
  },
  {
   "cell_type": "code",
   "execution_count": 27,
   "id": "e570ddb6",
   "metadata": {},
   "outputs": [
    {
     "name": "stdout",
     "output_type": "stream",
     "text": [
      "Sankt Polten 🧀 | 181010.0 | 133.2\n",
      "Tourismus in Wien #25: Sigmund Freud Haus 🛋️ | 10253.5 | 144.5\n",
      "Retour du Stage #14 🤕 | 9210.3 | 147.5\n",
      "Tourismus in Wien #26: Karlkirche 🫠 | 5202.9 | 145.5\n"
     ]
    }
   ],
   "source": [
    "for activity in activities:\n",
    "    print(f\"{activity.name} | {activity.distance} | {activity.average_heartrate}\")"
   ]
  }
 ],
 "metadata": {
  "kernelspec": {
   "display_name": "DataMountain",
   "language": "python",
   "name": "python3"
  },
  "language_info": {
   "codemirror_mode": {
    "name": "ipython",
    "version": 3
   },
   "file_extension": ".py",
   "mimetype": "text/x-python",
   "name": "python",
   "nbconvert_exporter": "python",
   "pygments_lexer": "ipython3",
   "version": "3.12.11"
  }
 },
 "nbformat": 4,
 "nbformat_minor": 5
}

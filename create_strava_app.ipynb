{
 "cells": [
  {
   "cell_type": "code",
   "execution_count": null,
   "id": "0b6f9054",
   "metadata": {},
   "outputs": [],
   "source": [
    "# You will use this to log in to your Strava account\n",
    "import webbrowser\n",
    "import json\n",
    "\n",
    "from stravalib.client import Client\n",
    "\n",
    "# Open the secrets file and store the client ID and client secret as objects, separated by a comma\n",
    "# Read below to learn how to set up the app that provides you with the client ID\n",
    "# and the client secret\n",
    "client_id, client_secret = open(\"client_secrets.txt\").read().strip().split(\",\")\n",
    "\n",
    "# Create a client object\n",
    "client = Client()\n",
    "# Define your scope (this is read-only - see below for a \"write\" example which\n",
    "# allows you to update activities and publish new activities to your Strava account).\n",
    "# read_all allows read access for both private and public activities\n",
    "request_scope = [\"read_all\", \"profile:read_all\", \"activity:read_all\"]\n",
    "\n",
    "# Create a localhost URL for authorization (for local development)\n",
    "redirect_url = \"http://127.0.0.1:5000/authorization\"\n",
    "\n",
    "# Create authorization url; your app client_id required to authorize\n",
    "url = client.authorization_url(\n",
    "    client_id=client_id,\n",
    "    redirect_uri=redirect_url,\n",
    "    scope=request_scope,\n",
    ")\n",
    "\n",
    "# Open the URL in a web browser\n",
    "webbrowser.open(url)\n",
    "\n",
    "print(\n",
    "    \"\"\"You will see a url that looks like this. \"\"\",\n",
    "    \"\"\"http://127.0.0.1:5000/authorization?state=&code=12323423423423423423423550&scope=read,activity:read_all,profile:read_all,read_all\")\"\"\",\n",
    "    \"\"\"Copy the values between code= and & in the url that you see in the\n",
    " browser. \"\"\",\n",
    ")\n",
    "# Using input allows you to copy the code into your Python console\n",
    "# (or Jupyter Notebook)\n",
    "code = input(\"Please enter the code that you received: \")\n",
    "print(\n",
    "    f\"Great! Your code is {code}\\n\"\n",
    "    \"Next, I will exchange that code for a token.\\n\"\n",
    "    \"I only have to do this once.\"\n",
    ")\n",
    "\n",
    "# Exchange the code returned from Strava for an access token\n",
    "token_response = client.exchange_code_for_token(\n",
    "    client_id=client_id, client_secret=client_secret, code=code\n",
    ")\n",
    "\n",
    "token_response\n",
    "# Example output of token_response\n",
    "# {'access_token': 'value-here-123123123', 'refresh_token': # '123123123',\n",
    "# 'expires_at': 1673665980}\n",
    "\n",
    "# Get current athlete details\n",
    "athlete = client.get_athlete()\n",
    "# Print athlete name :) If this works, your connection is successful!\n",
    "print(f\"Hi, {athlete.firstname} Welcome to stravalib!\")\n",
    "\n",
    "# You are now successfully authenticated!"
   ]
  },
  {
   "cell_type": "code",
   "execution_count": null,
   "id": "f58de492",
   "metadata": {},
   "outputs": [],
   "source": [
    "token_response"
   ]
  }
 ],
 "metadata": {
  "kernelspec": {
   "display_name": "DataMountain",
   "language": "python",
   "name": "python3"
  },
  "language_info": {
   "codemirror_mode": {
    "name": "ipython",
    "version": 3
   },
   "file_extension": ".py",
   "mimetype": "text/x-python",
   "name": "python",
   "nbconvert_exporter": "python",
   "pygments_lexer": "ipython3",
   "version": "3.12.11"
  }
 },
 "nbformat": 4,
 "nbformat_minor": 5
}
